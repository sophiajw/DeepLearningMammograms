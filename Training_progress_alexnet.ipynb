{
 "cells": [
  {
   "cell_type": "markdown",
   "metadata": {},
   "source": [
    "Overfitting to see if network is training\n",
    "================\n",
    "\n",
    "We try to train small spots of our dataset for getting overfitting. After we see this is working, we can train \"the whole\" data"
   ]
  },
  {
   "cell_type": "code",
   "execution_count": 1,
   "metadata": {},
   "outputs": [],
   "source": [
    "import numpy as np\n",
    "import matplotlib.pyplot as plt\n",
    "import torch\n",
    "from torch.autograd import Variable\n",
    "\n",
    "from code.data_utils import load_mammography_data\n",
    "from splitting import split_data"
   ]
  },
  {
   "cell_type": "markdown",
   "metadata": {},
   "source": [
    "* One image "
   ]
  },
  {
   "cell_type": "code",
   "execution_count": 2,
   "metadata": {},
   "outputs": [
    {
     "name": "stdout",
     "output_type": "stream",
     "text": [
      "Train size: 1\n",
      "Val size: 1\n"
     ]
    }
   ],
   "source": [
    "train_data = load_mammography_data('data/train.txt')\n",
    "val_data = load_mammography_data('data/val.txt')\n",
    "test_data = load_mammography_data('data/test.txt')\n",
    "\n",
    "train_data_one = [train_data[0]]\n",
    "val_data_one = [val_data[0]]\n",
    "\n",
    "print(\"Train size: %i\" % len(train_data_one))\n",
    "print(\"Val size: %i\" % len(val_data_one))"
   ]
  },
  {
   "cell_type": "markdown",
   "metadata": {},
   "source": [
    "Training the network with this smaller dataset"
   ]
  },
  {
   "cell_type": "code",
   "execution_count": 3,
   "metadata": {},
   "outputs": [
    {
     "name": "stdout",
     "output_type": "stream",
     "text": [
      "START TRAIN.\n",
      "[Epoch 1/20] TRAIN loss: 11.614035606384277, acc: 0.0\n",
      "[Epoch 1/20] VAL loss: 7.718297958374023, acc: 0.0\n",
      "[Epoch 2/20] TRAIN loss: 7.8325581550598145, acc: 0.0\n",
      "[Epoch 2/20] VAL loss: 5.607721328735352, acc: 0.0\n",
      "[Epoch 3/20] TRAIN loss: 5.8033952713012695, acc: 0.0\n",
      "[Epoch 3/20] VAL loss: 3.8371715545654297, acc: 0.0\n",
      "[Epoch 4/20] TRAIN loss: 4.378302574157715, acc: 0.0\n",
      "[Epoch 4/20] VAL loss: 2.164914131164551, acc: 1.0\n",
      "[Epoch 5/20] TRAIN loss: 2.1272096633911133, acc: 1.0\n",
      "[Epoch 5/20] VAL loss: 0.6972723007202148, acc: 1.0\n",
      "[Epoch 6/20] TRAIN loss: 0.6813850402832031, acc: 1.0\n",
      "[Epoch 6/20] VAL loss: 0.09765815734863281, acc: 1.0\n",
      "[Epoch 7/20] TRAIN loss: 0.042877197265625, acc: 1.0\n",
      "[Epoch 7/20] VAL loss: 0.0153045654296875, acc: 1.0\n",
      "[Epoch 8/20] TRAIN loss: 0.016193389892578125, acc: 1.0\n",
      "[Epoch 8/20] VAL loss: 0.0031147003173828125, acc: 1.0\n",
      "[Epoch 9/20] TRAIN loss: 0.002742767333984375, acc: 1.0\n",
      "[Epoch 9/20] VAL loss: 0.0006809234619140625, acc: 1.0\n",
      "[Epoch 10/20] TRAIN loss: 0.000438690185546875, acc: 1.0\n",
      "[Epoch 10/20] VAL loss: 0.000148773193359375, acc: 1.0\n",
      "[Epoch 11/20] TRAIN loss: 0.0012683868408203125, acc: 1.0\n",
      "[Epoch 11/20] VAL loss: 3.4332275390625e-05, acc: 1.0\n",
      "[Epoch 12/20] TRAIN loss: 1.33514404296875e-05, acc: 1.0\n",
      "[Epoch 12/20] VAL loss: 7.62939453125e-06, acc: 1.0\n",
      "[Epoch 13/20] TRAIN loss: 8.0108642578125e-05, acc: 1.0\n",
      "[Epoch 13/20] VAL loss: 1.9073486328125e-06, acc: 1.0\n",
      "[Epoch 14/20] TRAIN loss: 3.814697265625e-06, acc: 1.0\n",
      "[Epoch 14/20] VAL loss: 0.0, acc: 1.0\n",
      "[Epoch 15/20] TRAIN loss: 0.0, acc: 1.0\n",
      "[Epoch 15/20] VAL loss: 0.0, acc: 1.0\n",
      "[Epoch 16/20] TRAIN loss: 1.9073486328125e-06, acc: 1.0\n",
      "[Epoch 16/20] VAL loss: 0.0, acc: 1.0\n",
      "[Epoch 17/20] TRAIN loss: 0.0, acc: 1.0\n",
      "[Epoch 17/20] VAL loss: 0.0, acc: 1.0\n",
      "[Epoch 18/20] TRAIN loss: 0.0, acc: 1.0\n",
      "[Epoch 18/20] VAL loss: 0.0, acc: 1.0\n",
      "[Epoch 19/20] TRAIN loss: 0.0, acc: 1.0\n",
      "[Epoch 19/20] VAL loss: 0.0, acc: 1.0\n",
      "[Epoch 20/20] TRAIN loss: 0.0, acc: 1.0\n",
      "[Epoch 20/20] VAL loss: 0.0, acc: 1.0\n",
      "FINISH.\n",
      "0.0001 32\n"
     ]
    }
   ],
   "source": [
    "from code.classifiers.classification_mammograms import ClassificationMammograms\n",
    "from code.solver import Solver\n",
    "\n",
    "best_model = None\n",
    "\n",
    "num_epochs = 20\n",
    "batch_size = [32]\n",
    "\n",
    "learning_rates = [1e-4]\n",
    "\n",
    "for batch in batch_size:\n",
    "    train_loader = torch.utils.data.DataLoader(train_data_one, batch_size=batch, shuffle=True, num_workers=1)\n",
    "    val_loader = torch.utils.data.DataLoader(train_data_one, batch_size=batch, shuffle=False, num_workers=1)\n",
    "    for lr in learning_rates:\n",
    "        model = ClassificationMammograms()\n",
    "        solver = Solver(optim_args={\"lr\": lr, \n",
    "                                        #\"betas\": (0.9, 0.999),\n",
    "                                        #\"eps\": 1e-8,\n",
    "                                        \"weight_decay\": 0.0})\n",
    "\n",
    "        solver.train(model, train_loader, val_loader, log_nth=1000, num_epochs=num_epochs)\n",
    "        print(lr,batch)\n",
    "            \n"
   ]
  },
  {
   "cell_type": "code",
   "execution_count": 4,
   "metadata": {},
   "outputs": [
    {
     "data": {
      "image/png": "[encoded data removed]",
      "text/plain": [
       "<Figure size 432x288 with 2 Axes>"
      ]
     },
     "metadata": {
      "needs_background": "light"
     },
     "output_type": "display_data"
    }
   ],
   "source": [
    "plt.subplot(2, 1, 1)\n",
    "plt.plot(solver.train_loss_history, 'o')\n",
    "#plt.plot(solver.val_loss_history, 'o')\n",
    "plt.xlabel('iteration')\n",
    "plt.ylabel('loss')\n",
    "\n",
    "plt.subplot(2, 1, 2)\n",
    "#plt.plot(solver.train_acc_history, '-o')\n",
    "plt.plot(solver.val_acc_history, '-o')\n",
    "plt.legend(['train', 'val'], loc='upper left')\n",
    "plt.xlabel('epoch')\n",
    "plt.ylabel('accuracy')\n",
    "plt.show()"
   ]
  },
  {
   "cell_type": "markdown",
   "metadata": {},
   "source": [
    "* Ten images"
   ]
  },
  {
   "cell_type": "code",
   "execution_count": 5,
   "metadata": {},
   "outputs": [
    {
     "name": "stdout",
     "output_type": "stream",
     "text": [
      "Train size: 10\n",
      "Val size: 10\n"
     ]
    }
   ],
   "source": [
    "train_data = load_mammography_data('data/train.txt')\n",
    "val_data = load_mammography_data('data/val.txt')\n",
    "test_data = load_mammography_data('data/test.txt')\n",
    "\n",
    "train_data_ten = train_data[0:10]\n",
    "val_data_ten = val_data[0:10]\n",
    "\n",
    "print(\"Train size: %i\" % len(train_data_ten))\n",
    "print(\"Val size: %i\" % len(val_data_ten))"
   ]
  },
  {
   "cell_type": "code",
   "execution_count": 6,
   "metadata": {},
   "outputs": [
    {
     "name": "stdout",
     "output_type": "stream",
     "text": [
      "START TRAIN.\n",
      "[Epoch 1/20] TRAIN loss: 8.933326721191406, acc: 0.0\n",
      "[Epoch 1/20] VAL loss: 5.733364105224609, acc: 0.0\n",
      "[Epoch 2/20] TRAIN loss: 5.917952537536621, acc: 0.0\n",
      "[Epoch 2/20] VAL loss: 3.4290108680725098, acc: 0.2\n",
      "[Epoch 3/20] TRAIN loss: 3.5883686542510986, acc: 0.2\n",
      "[Epoch 3/20] VAL loss: 1.1548460721969604, acc: 1.0\n",
      "[Epoch 4/20] TRAIN loss: 1.0803349018096924, acc: 1.0\n",
      "[Epoch 4/20] VAL loss: 0.1037975326180458, acc: 1.0\n",
      "[Epoch 5/20] TRAIN loss: 0.13298892974853516, acc: 1.0\n",
      "[Epoch 5/20] VAL loss: 0.006242656614631414, acc: 1.0\n",
      "[Epoch 6/20] TRAIN loss: 0.007832241244614124, acc: 1.0\n",
      "[Epoch 6/20] VAL loss: 0.0005563736194744706, acc: 1.0\n",
      "[Epoch 7/20] TRAIN loss: 0.0007574081537313759, acc: 1.0\n",
      "[Epoch 7/20] VAL loss: 5.702972339349799e-05, acc: 1.0\n",
      "[Epoch 8/20] TRAIN loss: 4.100799560546875e-05, acc: 1.0\n",
      "[Epoch 8/20] VAL loss: 5.7220458984375e-06, acc: 1.0\n",
      "[Epoch 9/20] TRAIN loss: 3.43322744811303e-06, acc: 1.0\n",
      "[Epoch 9/20] VAL loss: 1.9073486612342094e-07, acc: 1.0\n",
      "[Epoch 10/20] TRAIN loss: 5.722046125811175e-07, acc: 1.0\n",
      "[Epoch 10/20] VAL loss: 0.0, acc: 1.0\n",
      "[Epoch 11/20] TRAIN loss: 0.0, acc: 1.0\n",
      "[Epoch 11/20] VAL loss: 0.0, acc: 1.0\n",
      "[Epoch 12/20] TRAIN loss: 0.0, acc: 1.0\n",
      "[Epoch 12/20] VAL loss: 0.0, acc: 1.0\n",
      "[Epoch 13/20] TRAIN loss: 0.0, acc: 1.0\n",
      "[Epoch 13/20] VAL loss: 0.0, acc: 1.0\n",
      "[Epoch 14/20] TRAIN loss: 0.0, acc: 1.0\n",
      "[Epoch 14/20] VAL loss: 0.0, acc: 1.0\n",
      "[Epoch 15/20] TRAIN loss: 0.0, acc: 1.0\n",
      "[Epoch 15/20] VAL loss: 0.0, acc: 1.0\n",
      "[Epoch 16/20] TRAIN loss: 0.0, acc: 1.0\n",
      "[Epoch 16/20] VAL loss: 0.0, acc: 1.0\n",
      "[Epoch 17/20] TRAIN loss: 0.0, acc: 1.0\n",
      "[Epoch 17/20] VAL loss: 0.0, acc: 1.0\n",
      "[Epoch 18/20] TRAIN loss: 0.0, acc: 1.0\n",
      "[Epoch 18/20] VAL loss: 0.0, acc: 1.0\n",
      "[Epoch 19/20] TRAIN loss: 0.0, acc: 1.0\n",
      "[Epoch 19/20] VAL loss: 0.0, acc: 1.0\n",
      "[Epoch 20/20] TRAIN loss: 0.0, acc: 1.0\n",
      "[Epoch 20/20] VAL loss: 0.0, acc: 1.0\n",
      "FINISH.\n",
      "0.0001 32\n"
     ]
    }
   ],
   "source": [
    "from code.classifiers.classification_mammograms import ClassificationMammograms\n",
    "from code.solver import Solver\n",
    "\n",
    "best_model = None\n",
    "\n",
    "num_epochs = 20\n",
    "batch_size = [32]\n",
    "\n",
    "learning_rates = [1e-4]\n",
    "\n",
    "for batch in batch_size:\n",
    "    train_loader = torch.utils.data.DataLoader(train_data_ten, batch_size=batch, shuffle=True, num_workers=1)\n",
    "    val_loader = torch.utils.data.DataLoader(train_data_ten, batch_size=batch, shuffle=False, num_workers=1)\n",
    "    for lr in learning_rates:\n",
    "        model = ClassificationMammograms()\n",
    "        solver = Solver(optim_args={\"lr\": lr, \n",
    "                                        #\"betas\": (0.9, 0.999),\n",
    "                                        #\"eps\": 1e-8,\n",
    "                                        \"weight_decay\": 0.0})\n",
    "\n",
    "        solver.train(model, train_loader, val_loader, log_nth=1000, num_epochs=num_epochs)\n",
    "        print(lr,batch)\n",
    "            \n"
   ]
  },
  {
   "cell_type": "code",
   "execution_count": 7,
   "metadata": {},
   "outputs": [
    {
     "data": {
      "image/png": "[encoded data removed]",
      "text/plain": [
       "<Figure size 432x288 with 2 Axes>"
      ]
     },
     "metadata": {
      "needs_background": "light"
     },
     "output_type": "display_data"
    }
   ],
   "source": [
    "plt.subplot(2, 1, 1)\n",
    "plt.plot(solver.train_loss_history, 'o')\n",
    "#plt.plot(solver.val_loss_history, 'o')\n",
    "plt.xlabel('iteration')\n",
    "plt.ylabel('loss')\n",
    "\n",
    "plt.subplot(2, 1, 2)\n",
    "plt.plot(solver.train_acc_history, '-o')\n",
    "#plt.plot(solver.val_acc_history, '-o')\n",
    "plt.legend(['train', 'val'], loc='upper left')\n",
    "plt.xlabel('epoch')\n",
    "plt.ylabel('accuracy')\n",
    "plt.show()"
   ]
  },
  {
   "cell_type": "code",
   "execution_count": null,
   "metadata": {},
   "outputs": [],
   "source": []
  },
  {
   "cell_type": "code",
   "execution_count": null,
   "metadata": {},
   "outputs": [],
   "source": []
  }
 ],
 "metadata": {
  "kernelspec": {
   "display_name": "Python 3",
   "language": "python",
   "name": "python3"
  },
  "language_info": {
   "codemirror_mode": {
    "name": "ipython",
    "version": 3
   },
   "file_extension": ".py",
   "mimetype": "text/x-python",
   "name": "python",
   "nbconvert_exporter": "python",
   "pygments_lexer": "ipython3",
   "version": "3.7.3"
  }
 },
 "nbformat": 4,
 "nbformat_minor": 1
}
