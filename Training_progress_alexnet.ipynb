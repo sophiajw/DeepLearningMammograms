{
 "cells": [
  {
   "cell_type": "markdown",
   "metadata": {},
   "source": [
    "Overfitting to see if network is training\n",
    "================\n",
    "\n",
    "We try to train small spots of our dataset for getting overfitting. After we see this is working, we can train \"the whole\" data"
   ]
  },
  {
   "cell_type": "code",
   "execution_count": 1,
   "metadata": {},
   "outputs": [],
   "source": [
    "import numpy as np\n",
    "import matplotlib.pyplot as plt\n",
    "import torch\n",
    "from torch.autograd import Variable\n",
    "\n",
    "from deeplearner.data_utils import load_mammography_data\n",
    "from splitting import split_data"
   ]
  },
  {
   "cell_type": "markdown",
   "metadata": {},
   "source": [
    "* One image "
   ]
  },
  {
   "cell_type": "code",
   "execution_count": 2,
   "metadata": {},
   "outputs": [
    {
     "name": "stdout",
     "output_type": "stream",
     "text": [
      "Train size: 1\n",
      "Val size: 1\n"
     ]
    }
   ],
   "source": [
    "train_data = load_mammography_data('data/train.txt')\n",
    "val_data = load_mammography_data('data/val.txt')\n",
    "test_data = load_mammography_data('data/test.txt')\n",
    "\n",
    "train_data_one = [train_data[0]]\n",
    "val_data_one = [val_data[0]]\n",
    "\n",
    "print(\"Train size: %i\" % len(train_data_one))\n",
    "print(\"Val size: %i\" % len(val_data_one))"
   ]
  },
  {
   "cell_type": "markdown",
   "metadata": {},
   "source": [
    "Training the network with this smaller dataset"
   ]
  },
  {
   "cell_type": "code",
   "execution_count": 3,
   "metadata": {},
   "outputs": [
    {
     "name": "stdout",
     "output_type": "stream",
     "text": [
      "START TRAIN.\n",
      "[Epoch 1/20] TRAIN loss: 11.860371589660645, acc: 0.0\n",
      "[Epoch 1/20] VAL loss: 7.157012462615967, acc: 0.0\n",
      "[Epoch 2/20] TRAIN loss: 8.170282363891602, acc: 0.0\n",
      "[Epoch 2/20] VAL loss: 5.099117755889893, acc: 0.0\n",
      "[Epoch 3/20] TRAIN loss: 5.771306037902832, acc: 0.0\n",
      "[Epoch 3/20] VAL loss: 3.2191529273986816, acc: 0.0\n",
      "[Epoch 4/20] TRAIN loss: 4.094735145568848, acc: 0.0\n",
      "[Epoch 4/20] VAL loss: 1.2202181816101074, acc: 1.0\n",
      "[Epoch 5/20] TRAIN loss: 1.1794490814208984, acc: 1.0\n",
      "[Epoch 5/20] VAL loss: 0.18153667449951172, acc: 1.0\n",
      "[Epoch 6/20] TRAIN loss: 0.23713016510009766, acc: 1.0\n",
      "[Epoch 6/20] VAL loss: 0.022126197814941406, acc: 1.0\n",
      "[Epoch 7/20] TRAIN loss: 0.018332481384277344, acc: 1.0\n",
      "[Epoch 7/20] VAL loss: 0.0044612884521484375, acc: 1.0\n",
      "[Epoch 8/20] TRAIN loss: 0.002933502197265625, acc: 1.0\n",
      "[Epoch 8/20] VAL loss: 0.001125335693359375, acc: 1.0\n",
      "[Epoch 9/20] TRAIN loss: 0.0014896392822265625, acc: 1.0\n",
      "[Epoch 9/20] VAL loss: 0.0002994537353515625, acc: 1.0\n",
      "[Epoch 10/20] TRAIN loss: 0.000194549560546875, acc: 1.0\n",
      "[Epoch 10/20] VAL loss: 7.43865966796875e-05, acc: 1.0\n",
      "[Epoch 11/20] TRAIN loss: 9.5367431640625e-06, acc: 1.0\n",
      "[Epoch 11/20] VAL loss: 1.71661376953125e-05, acc: 1.0\n",
      "[Epoch 12/20] TRAIN loss: 6.67572021484375e-05, acc: 1.0\n",
      "[Epoch 12/20] VAL loss: 3.814697265625e-06, acc: 1.0\n",
      "[Epoch 13/20] TRAIN loss: 1.9073486328125e-06, acc: 1.0\n",
      "[Epoch 13/20] VAL loss: 0.0, acc: 1.0\n",
      "[Epoch 14/20] TRAIN loss: 1.9073486328125e-06, acc: 1.0\n",
      "[Epoch 14/20] VAL loss: 0.0, acc: 1.0\n",
      "[Epoch 15/20] TRAIN loss: 0.0, acc: 1.0\n",
      "[Epoch 15/20] VAL loss: 0.0, acc: 1.0\n",
      "[Epoch 16/20] TRAIN loss: 0.0, acc: 1.0\n",
      "[Epoch 16/20] VAL loss: 0.0, acc: 1.0\n",
      "[Epoch 17/20] TRAIN loss: 0.0, acc: 1.0\n",
      "[Epoch 17/20] VAL loss: 0.0, acc: 1.0\n",
      "[Epoch 18/20] TRAIN loss: 0.0, acc: 1.0\n",
      "[Epoch 18/20] VAL loss: 0.0, acc: 1.0\n",
      "[Epoch 19/20] TRAIN loss: 0.0, acc: 1.0\n",
      "[Epoch 19/20] VAL loss: 0.0, acc: 1.0\n",
      "[Epoch 20/20] TRAIN loss: 0.0, acc: 1.0\n",
      "[Epoch 20/20] VAL loss: 0.0, acc: 1.0\n",
      "FINISH.\n",
      "0.0001 32\n"
     ]
    }
   ],
   "source": [
    "from deeplearner.classifiers.classification_mammograms import ClassificationMammograms\n",
    "from deeplearner.solver import Solver\n",
    "\n",
    "best_model = None\n",
    "\n",
    "num_epochs = 20\n",
    "batch_size = [32]\n",
    "\n",
    "learning_rates = [1e-4]\n",
    "\n",
    "for batch in batch_size:\n",
    "    train_loader = torch.utils.data.DataLoader(train_data_one, batch_size=batch, shuffle=True, num_workers=1)\n",
    "    val_loader = torch.utils.data.DataLoader(train_data_one, batch_size=batch, shuffle=False, num_workers=1)\n",
    "    for lr in learning_rates:\n",
    "        model = ClassificationMammograms()\n",
    "        solver = Solver(optim_args={\"lr\": lr, \n",
    "                                        #\"betas\": (0.9, 0.999),\n",
    "                                        #\"eps\": 1e-8,\n",
    "                                        \"weight_decay\": 0.0})\n",
    "\n",
    "        solver.train(model, train_loader, val_loader, log_nth=1000, num_epochs=num_epochs)\n",
    "        print(lr,batch)\n",
    "            \n"
   ]
  },
  {
   "cell_type": "code",
   "execution_count": 4,
   "metadata": {},
   "outputs": [
    {
     "data": {
      "image/png": "[encoded data removed]",
      "text/plain": [
       "<Figure size 432x288 with 2 Axes>"
      ]
     },
     "metadata": {
      "needs_background": "light"
     },
     "output_type": "display_data"
    }
   ],
   "source": [
    "plt.subplot(2, 1, 1)\n",
    "plt.plot(solver.train_loss_history, 'o')\n",
    "#plt.plot(solver.val_loss_history, 'o')\n",
    "plt.xlabel('iteration')\n",
    "plt.ylabel('loss')\n",
    "\n",
    "plt.subplot(2, 1, 2)\n",
    "#plt.plot(solver.train_acc_history, '-o')\n",
    "plt.plot(solver.val_acc_history, '-o')\n",
    "plt.legend(['train', 'val'], loc='upper left')\n",
    "plt.xlabel('epoch')\n",
    "plt.ylabel('accuracy')\n",
    "plt.show()"
   ]
  },
  {
   "cell_type": "markdown",
   "metadata": {},
   "source": [
    "* Ten images"
   ]
  },
  {
   "cell_type": "code",
   "execution_count": 5,
   "metadata": {},
   "outputs": [
    {
     "name": "stdout",
     "output_type": "stream",
     "text": [
      "Train size: 10\n",
      "Val size: 10\n"
     ]
    }
   ],
   "source": [
    "train_data = load_mammography_data('data/train.txt')\n",
    "val_data = load_mammography_data('data/val.txt')\n",
    "test_data = load_mammography_data('data/test.txt')\n",
    "\n",
    "train_data_ten = train_data[0:10]\n",
    "val_data_ten = val_data[0:10]\n",
    "\n",
    "print(\"Train size: %i\" % len(train_data_ten))\n",
    "print(\"Val size: %i\" % len(val_data_ten))"
   ]
  },
  {
   "cell_type": "code",
   "execution_count": 6,
   "metadata": {},
   "outputs": [
    {
     "name": "stdout",
     "output_type": "stream",
     "text": [
      "START TRAIN.\n",
      "[Epoch 1/20] TRAIN loss: 9.478472709655762, acc: 0.0\n",
      "[Epoch 1/20] VAL loss: 5.749745845794678, acc: 0.0\n",
      "[Epoch 2/20] TRAIN loss: 5.833444118499756, acc: 0.0\n",
      "[Epoch 2/20] VAL loss: 3.460214614868164, acc: 0.3\n",
      "[Epoch 3/20] TRAIN loss: 3.730649471282959, acc: 0.4\n",
      "[Epoch 3/20] VAL loss: 1.1996829509735107, acc: 1.0\n",
      "[Epoch 4/20] TRAIN loss: 1.4073669910430908, acc: 0.9\n",
      "[Epoch 4/20] VAL loss: 0.09457206726074219, acc: 1.0\n",
      "[Epoch 5/20] TRAIN loss: 0.1761259138584137, acc: 1.0\n",
      "[Epoch 5/20] VAL loss: 0.004322624299675226, acc: 1.0\n",
      "[Epoch 6/20] TRAIN loss: 0.0068378448486328125, acc: 1.0\n",
      "[Epoch 6/20] VAL loss: 0.00037288665771484375, acc: 1.0\n",
      "[Epoch 7/20] TRAIN loss: 0.0003799438418354839, acc: 1.0\n",
      "[Epoch 7/20] VAL loss: 3.299712989246473e-05, acc: 1.0\n",
      "[Epoch 8/20] TRAIN loss: 5.683898780262098e-05, acc: 1.0\n",
      "[Epoch 8/20] VAL loss: 2.670288040462765e-06, acc: 1.0\n",
      "[Epoch 9/20] TRAIN loss: 4.19616708313697e-06, acc: 1.0\n",
      "[Epoch 9/20] VAL loss: 0.0, acc: 1.0\n",
      "[Epoch 10/20] TRAIN loss: 1.9073486612342094e-07, acc: 1.0\n",
      "[Epoch 10/20] VAL loss: 0.0, acc: 1.0\n",
      "[Epoch 11/20] TRAIN loss: 0.0, acc: 1.0\n",
      "[Epoch 11/20] VAL loss: 0.0, acc: 1.0\n",
      "[Epoch 12/20] TRAIN loss: 0.0, acc: 1.0\n",
      "[Epoch 12/20] VAL loss: 0.0, acc: 1.0\n",
      "[Epoch 13/20] TRAIN loss: 0.0, acc: 1.0\n",
      "[Epoch 13/20] VAL loss: 0.0, acc: 1.0\n",
      "[Epoch 14/20] TRAIN loss: 0.0, acc: 1.0\n",
      "[Epoch 14/20] VAL loss: 0.0, acc: 1.0\n",
      "[Epoch 15/20] TRAIN loss: 0.0, acc: 1.0\n",
      "[Epoch 15/20] VAL loss: 0.0, acc: 1.0\n",
      "[Epoch 16/20] TRAIN loss: 0.0, acc: 1.0\n",
      "[Epoch 16/20] VAL loss: 0.0, acc: 1.0\n",
      "[Epoch 17/20] TRAIN loss: 0.0, acc: 1.0\n",
      "[Epoch 17/20] VAL loss: 0.0, acc: 1.0\n",
      "[Epoch 18/20] TRAIN loss: 0.0, acc: 1.0\n",
      "[Epoch 18/20] VAL loss: 0.0, acc: 1.0\n",
      "[Epoch 19/20] TRAIN loss: 0.0, acc: 1.0\n",
      "[Epoch 19/20] VAL loss: 0.0, acc: 1.0\n",
      "[Epoch 20/20] TRAIN loss: 0.0, acc: 1.0\n",
      "[Epoch 20/20] VAL loss: 0.0, acc: 1.0\n",
      "FINISH.\n",
      "0.0001 32\n"
     ]
    }
   ],
   "source": [
    "from deeplearner.classifiers.classification_mammograms import ClassificationMammograms\n",
    "from deeplearner.solver import Solver\n",
    "\n",
    "best_model = None\n",
    "\n",
    "num_epochs = 20\n",
    "batch_size = [32]\n",
    "\n",
    "learning_rates = [1e-4]\n",
    "\n",
    "for batch in batch_size:\n",
    "    train_loader = torch.utils.data.DataLoader(train_data_ten, batch_size=batch, shuffle=True, num_workers=1)\n",
    "    val_loader = torch.utils.data.DataLoader(train_data_ten, batch_size=batch, shuffle=False, num_workers=1)\n",
    "    for lr in learning_rates:\n",
    "        model = ClassificationMammograms()\n",
    "        solver = Solver(optim_args={\"lr\": lr, \n",
    "                                        #\"betas\": (0.9, 0.999),\n",
    "                                        #\"eps\": 1e-8,\n",
    "                                        \"weight_decay\": 0.0})\n",
    "\n",
    "        solver.train(model, train_loader, val_loader, log_nth=1000, num_epochs=num_epochs)\n",
    "        print(lr,batch)\n",
    "            \n"
   ]
  },
  {
   "cell_type": "code",
   "execution_count": 8,
   "metadata": {},
   "outputs": [
    {
     "data": {
      "image/png": "[encoded data removed]",
      "text/plain": [
       "<Figure size 432x288 with 2 Axes>"
      ]
     },
     "metadata": {
      "needs_background": "light"
     },
     "output_type": "display_data"
    }
   ],
   "source": [
    "plt.subplot(2, 1, 1)\n",
    "plt.plot(solver.train_loss_history, 'o')\n",
    "#plt.plot(solver.val_loss_history, 'o')\n",
    "plt.xlabel('iteration')\n",
    "plt.ylabel('loss')\n",
    "\n",
    "plt.subplot(2, 1, 2)\n",
    "plt.plot(solver.train_acc_history, '-o')\n",
    "#plt.plot(solver.val_acc_history, '-o')\n",
    "plt.legend(['train', 'val'], loc='upper left')\n",
    "plt.xlabel('epoch')\n",
    "plt.ylabel('accuracy')\n",
    "plt.show()"
   ]
  },
  {
   "cell_type": "code",
   "execution_count": null,
   "metadata": {},
   "outputs": [],
   "source": []
  },
  {
   "cell_type": "code",
   "execution_count": null,
   "metadata": {},
   "outputs": [],
   "source": []
  }
 ],
 "metadata": {
  "kernelspec": {
   "display_name": "Python 3",
   "language": "python",
   "name": "python3"
  },
  "language_info": {
   "codemirror_mode": {
    "name": "ipython",
    "version": 3
   },
   "file_extension": ".py",
   "mimetype": "text/x-python",
   "name": "python",
   "nbconvert_exporter": "python",
   "pygments_lexer": "ipython3",
   "version": "3.7.3"
  }
 },
 "nbformat": 4,
 "nbformat_minor": 1
}
