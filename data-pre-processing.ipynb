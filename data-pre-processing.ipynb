{
 "cells": [
  {
   "cell_type": "code",
   "execution_count": 1,
   "metadata": {},
   "outputs": [],
   "source": [
    "import os\n",
    "import base64\n",
    "import PIL\n",
    "from PIL import Image\n",
    "from glob import glob\n",
    "import pandas as pd\n",
    "import numpy as np"
   ]
  },
  {
   "cell_type": "code",
   "execution_count": 2,
   "metadata": {},
   "outputs": [],
   "source": [
    "path1 = './Images/'  \n",
    "path2 = './out/' "
   ]
  },
  {
   "cell_type": "code",
   "execution_count": 3,
   "metadata": {},
   "outputs": [],
   "source": [
    "start_index = 0 #TODO: change accordingly\n",
    "end_index = 322   #TODO: change accordingly\n",
    "crop_length = 128 #default crop length\n",
    "image_dim = 1024\n",
    "counter = 1\n",
    "info_file = pd.read_csv(r\"./Info.txt\", sep=' ')\n",
    "for i in range(start_index, end_index):\n",
    "    if(info_file.iloc[i, 2] != 'NORM' and not(np.isnan(info_file.iloc[i, 4]))):\n",
    "        image_name = './dataset/' + info_file.iloc[i,0] + '.pgm'\n",
    "        image = Image.open(image_name)\n",
    "        x = info_file.iloc[i,4]\n",
    "        y = image_dim - info_file.iloc[i,5] \n",
    "        crop_length = info_file.iloc[i,6] + 50 #crop length according to the radius of tumor\n",
    "        area = (x - crop_length, y - crop_length, x + crop_length, y + crop_length)\n",
    "        image.crop(area).save('./processed-data/img' + str(counter).zfill(3) + '.jpg',\"JPEG\")\n",
    "        counter = counter + 1"
   ]
  },
  {
   "cell_type": "code",
   "execution_count": null,
   "metadata": {},
   "outputs": [],
   "source": []
  },
  {
   "cell_type": "code",
   "execution_count": null,
   "metadata": {},
   "outputs": [],
   "source": []
  }
 ],
 "metadata": {
  "kernelspec": {
   "display_name": "Python 3",
   "language": "python",
   "name": "python3"
  },
  "language_info": {
   "codemirror_mode": {
    "name": "ipython",
    "version": 3
   },
   "file_extension": ".py",
   "mimetype": "text/x-python",
   "name": "python",
   "nbconvert_exporter": "python",
   "pygments_lexer": "ipython3",
   "version": "3.6.4"
  }
 },
 "nbformat": 4,
 "nbformat_minor": 2
}
