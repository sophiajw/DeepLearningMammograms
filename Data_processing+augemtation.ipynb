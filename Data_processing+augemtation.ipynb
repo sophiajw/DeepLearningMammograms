{
 "cells": [
  {
   "cell_type": "code",
   "execution_count": 1,
   "metadata": {},
   "outputs": [],
   "source": [
    "import os\n",
    "import base64\n",
    "import PIL\n",
    "from PIL import Image\n",
    "from glob import glob\n",
    "import pandas as pd\n",
    "import numpy as np"
   ]
  },
  {
   "cell_type": "code",
   "execution_count": 2,
   "metadata": {},
   "outputs": [],
   "source": [
    "path1 = './Images/'  \n",
    "path2 = './out/' "
   ]
  },
  {
   "cell_type": "code",
   "execution_count": 11,
   "metadata": {},
   "outputs": [],
   "source": [
    "start_index = 0 #TODO: change accordingly\n",
    "crop_length = 128 #default crop length\n",
    "image_dim = 1024\n",
    "counter = 1\n",
    "info_file = pd.read_csv(r\"./Info.txt\", sep=' ')\n",
    "end_index = info_file.shape[0]   #TODO: change accordingly\n",
    "test1 = list()\n",
    "test1.append('Number_Case')\n",
    "\n",
    "for i in range(start_index, end_index):\n",
    "    if(info_file.iloc[i, 2] != 'NORM' and not(np.isnan(info_file.iloc[i, 4]))):\n",
    "        image_name = './Data/' + info_file.iloc[i,0] + '.pgm'\n",
    "        image = Image.open(image_name)\n",
    "        x = info_file.iloc[i,4]\n",
    "        y = image_dim - info_file.iloc[i,5] \n",
    "        crop_length = info_file.iloc[i,6] + 50 #crop length according to the radius of tumor\n",
    "        area = (x - crop_length, y - crop_length, x + crop_length, y + crop_length)\n",
    "        image.crop(area).save('./processed-data/img'+'_' + str(counter) +'_' +info_file.iloc[i,3] + '.jpg',\"JPEG\")\n",
    "        test1.append('img' + '_' + str(counter) + '_' +info_file.iloc[i,3])\n",
    "        counter = counter + 1\n"
   ]
  },
  {
   "cell_type": "code",
   "execution_count": 12,
   "metadata": {},
   "outputs": [],
   "source": [
    "with open('Pre_processed_data.txt', 'w') as f:\n",
    "    for item in test1:\n",
    "        f.write(\"%s\\n\" % item)"
   ]
  },
  {
   "cell_type": "code",
   "execution_count": 13,
   "metadata": {},
   "outputs": [],
   "source": [
    "info_file_pro = pd.read_csv(r\"./Pre_processed_data.txt\",sep = '_')\n",
    "end_index = info_file_pro.shape[0]\n",
    "\n",
    "start_index = 0\n",
    "saving_path = './Augmentation'\n",
    "\n",
    "test2 = list()\n",
    "test2.append('Number_Case')\n",
    "\n",
    "for i in range(start_index, end_index):\n",
    "   # print(i)\n",
    "    image_name = './processed-data/img' + '_' + str(info_file_pro.iloc[i,0]) + '_' + info_file_pro.iloc[i,1] \n",
    "    image = Image.open(image_name + '.jpg')\n",
    "   # print(image)\n",
    "    #X for 90 degrees rotation\n",
    "    image.rotate(90).save('./Augmentation/img' + '_' + str(info_file_pro.iloc[i,0]) + 'X' + '_' +  info_file_pro.iloc[i,1]+'.jpg',\"JPEG\")\n",
    "    test2.append('img' + '_' + str(info_file_pro.iloc[i,0]) + 'X_' + info_file_pro.iloc[i,1])\n",
    "    test1.append('img' + '_' + str(info_file_pro.iloc[i,0]) + 'X_' + info_file_pro.iloc[i,1])\n",
    "    \n",
    "    #Y for 180 degrees rotation\n",
    "    image.rotate(180).save('./Augmentation/img' + '_' + str(info_file_pro.iloc[i,0]) + 'Y' + '_' + info_file_pro.iloc[i,1]+'.jpg',\"JPEG\")\n",
    "    test2.append('img' + '_' + str(info_file_pro.iloc[i,0]) + 'Y_' + info_file_pro.iloc[i,1])\n",
    "    test1.append('img' + '_' + str(info_file_pro.iloc[i,0]) + 'Y_' + info_file_pro.iloc[i,1])\n",
    "    \n",
    "    #Z for 270 degrees rotation\n",
    "    image.rotate(270).save('./Augmentation/img' + '_' + str(info_file_pro.iloc[i,0]) + 'Z' + '_' + info_file_pro.iloc[i,1]+'.jpg',\"JPEG\")\n",
    "    test2.append('img' + '_' + str(info_file_pro.iloc[i,0]) + 'Z_' + info_file_pro.iloc[i,1])\n",
    "    test1.append('img' + '_' + str(info_file_pro.iloc[i,0]) + 'Z_' + info_file_pro.iloc[i,1])\n",
    "    "
   ]
  },
  {
   "cell_type": "code",
   "execution_count": 14,
   "metadata": {},
   "outputs": [],
   "source": [
    "with open('Augmentation.txt', 'w') as f:\n",
    "    for item in test2:\n",
    "        f.write(\"%s\\n\" % item)"
   ]
  },
  {
   "cell_type": "code",
   "execution_count": 15,
   "metadata": {},
   "outputs": [],
   "source": [
    "with open('Data_processing+augmentation.txt', 'w') as f:\n",
    "    for item in test1:\n",
    "        f.write(\"%s\\n\" % item)"
   ]
  },
  {
   "cell_type": "code",
   "execution_count": null,
   "metadata": {},
   "outputs": [],
   "source": []
  },
  {
   "cell_type": "code",
   "execution_count": null,
   "metadata": {},
   "outputs": [],
   "source": []
  }
 ],
 "metadata": {
  "kernelspec": {
   "display_name": "Python 3",
   "language": "python",
   "name": "python3"
  },
  "language_info": {
   "codemirror_mode": {
    "name": "ipython",
    "version": 3
   },
   "file_extension": ".py",
   "mimetype": "text/x-python",
   "name": "python",
   "nbconvert_exporter": "python",
   "pygments_lexer": "ipython3",
   "version": "3.7.3"
  }
 },
 "nbformat": 4,
 "nbformat_minor": 2
}
