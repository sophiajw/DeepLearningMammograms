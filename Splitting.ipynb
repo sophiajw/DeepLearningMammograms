{
 "cells": [
  {
   "cell_type": "code",
   "execution_count": 93,
   "metadata": {},
   "outputs": [],
   "source": [
    "import os\n",
    "import base64\n",
    "import PIL\n",
    "from PIL import Image\n",
    "from glob import glob\n",
    "import pandas as pd\n",
    "import numpy as np\n",
    "import random"
   ]
  },
  {
   "cell_type": "code",
   "execution_count": 88,
   "metadata": {},
   "outputs": [],
   "source": [
    "#def splitting():\n",
    "train_pro=0.6\n",
    "val_pro=0.2\n",
    "test_pro=0.2\n",
    "info_file = pd.read_csv(r\"./Pre_processed_data.txt\", sep='_')\n",
    "\n",
    "#length or our data:\n",
    "len(info_file)\n",
    "\n",
    "#Getting to know how many begin and how many maligant case we have\n",
    "counter_B=0\n",
    "counter_M=0\n"
   ]
  },
  {
   "cell_type": "code",
   "execution_count": 89,
   "metadata": {},
   "outputs": [
    {
     "name": "stdout",
     "output_type": "stream",
     "text": [
      "41\n",
      "31\n"
     ]
    }
   ],
   "source": [
    "for i in range(len(info_file)):\n",
    "    if (info_file.iloc[i,1]=='B'):\n",
    "        counter_B = counter_B +1\n",
    "    elif(info_file.iloc[i,1]=='M'):\n",
    "        counter_M = counter_M +1\n",
    "        \n",
    "train_B = round(counter_B*train_pro)\n",
    "print(train_B)\n",
    "\n",
    "train_M = round(counter_M*train_pro)\n",
    "print(train_M)\n",
    "\n",
    "val_B = round(counter_B*val_pro)\n",
    "#print(val_B)\n",
    "\n",
    "val_M = round(counter_M*val_pro)\n",
    "#print(val_M)\n",
    "\n",
    "test_B = round(counter_B*test_pro)\n",
    "#print(test_B)\n",
    "\n",
    "test_M = round(counter_M*test_pro)\n",
    "#print(test_M)"
   ]
  },
  {
   "cell_type": "code",
   "execution_count": 57,
   "metadata": {},
   "outputs": [],
   "source": [
    "sum_B= test_B+val_B+train_B\n",
    "sum_M= test_M+val_M+train_M\n",
    "if(sum_B!= counter_B):\n",
    "    train_B = train_B-abs(sum_B-counter_B)\n",
    "if(sum_M != counter_B):\n",
    "    train_M = train_M-abs(sum_M-counter_M)\n"
   ]
  },
  {
   "cell_type": "code",
   "execution_count": 76,
   "metadata": {},
   "outputs": [],
   "source": [
    "#info_file"
   ]
  },
  {
   "cell_type": "code",
   "execution_count": 72,
   "metadata": {},
   "outputs": [],
   "source": [
    "#B list\n",
    "Blist=list()\n",
    "for i in range (len(info_file)):\n",
    "    if (info_file.iloc[i,1]=='B'):\n",
    "        Blist.append('img'+ '_' + str(info_file.iloc[i,0]) +'_' +info_file.iloc[i,1])\n",
    "#M list\n",
    "Mlist=list()\n",
    "for i in range (len(info_file)):\n",
    "    if (info_file.iloc[i,1]=='M'):\n",
    "        Mlist.append('img'+ '_' + str(info_file.iloc[i,0]) +'_' +info_file.iloc[i,1])\n"
   ]
  },
  {
   "cell_type": "code",
   "execution_count": 96,
   "metadata": {},
   "outputs": [],
   "source": [
    "#train\n",
    "train_list = list()\n",
    "train_list = Blist[0:train_B]\n",
    "train_list[train_B+1: train_M] = Mlist[0:train_M]\n",
    "\n",
    "random.seed(1223)\n",
    "random.shuffle(train_list)"
   ]
  },
  {
   "cell_type": "code",
   "execution_count": 97,
   "metadata": {},
   "outputs": [],
   "source": [
    "#val\n",
    "val_list = list()\n",
    "val_list = Blist[0:val_B]\n",
    "val_list[val_B+1 : val_M] = Mlist[0:val_M]\n",
    "\n",
    "random.seed(123)\n",
    "random.shuffle(val_list)"
   ]
  },
  {
   "cell_type": "code",
   "execution_count": 98,
   "metadata": {},
   "outputs": [],
   "source": [
    "#test \n",
    "test_list = list()\n",
    "test_list = Blist[0:test_B]\n",
    "test_list[test_B+1 : test_M] = Mlist[0:test_M]\n",
    "\n",
    "random.seed(12)\n",
    "random.shuffle(test_list)"
   ]
  },
  {
   "cell_type": "code",
   "execution_count": 99,
   "metadata": {},
   "outputs": [],
   "source": [
    "with open('train.txt', 'w') as f:\n",
    "    for item in train_list:\n",
    "        f.write(\"%s\\n\" % item)\n",
    "        \n",
    "with open('val.txt', 'w') as f:\n",
    "    for item in val_list:\n",
    "        f.write(\"%s\\n\" % item)\n",
    "        \n",
    "with open('test.txt', 'w') as f:\n",
    "    for item in test_list:\n",
    "        f.write(\"%s\\n\" % item)\n"
   ]
  },
  {
   "cell_type": "code",
   "execution_count": null,
   "metadata": {},
   "outputs": [],
   "source": []
  },
  {
   "cell_type": "code",
   "execution_count": null,
   "metadata": {},
   "outputs": [],
   "source": []
  },
  {
   "cell_type": "code",
   "execution_count": null,
   "metadata": {},
   "outputs": [],
   "source": []
  }
 ],
 "metadata": {
  "kernelspec": {
   "display_name": "Python 3",
   "language": "python",
   "name": "python3"
  },
  "language_info": {
   "codemirror_mode": {
    "name": "ipython",
    "version": 3
   },
   "file_extension": ".py",
   "mimetype": "text/x-python",
   "name": "python",
   "nbconvert_exporter": "python",
   "pygments_lexer": "ipython3",
   "version": "3.7.3"
  }
 },
 "nbformat": 4,
 "nbformat_minor": 2
}
