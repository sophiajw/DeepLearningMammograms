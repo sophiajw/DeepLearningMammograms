{
 "cells": [
  {
   "cell_type": "markdown",
   "metadata": {},
   "source": [
    "Image classification with CNNs\n",
    "================\n",
    "\n",
    "This notebook is based on the exercise notebooks of the course \"Introduction to Deep Learning\". We used a three-layer CNN to perform the classification task on the dataset CIFAR10 (32x32 images with 10 classes).\n",
    "\n",
    "The bullet points are my suggestions what we need to do. \n",
    "****\n",
    "The text below the grey lines is still from the original notebook."
   ]
  },
  {
   "cell_type": "code",
   "execution_count": 2,
   "metadata": {},
   "outputs": [],
   "source": [
    "import numpy as np\n",
    "import matplotlib.pyplot as plt\n",
    "import torch\n",
    "from torch.autograd import Variable\n",
    "\n",
    "\n",
    "from exercise_code.classifiers.classification_cnn import ClassificationCNN\n",
    "# specific for CIFAR10 dataset:\n",
    "from exercise_code.data_utils import get_CIFAR10_datasets, OverfitSampler, rel_error\n",
    "\n",
    "#torch.set_default_tensor_type('torch.FloatTensor')\n",
    "#set up default cuda device\n",
    "device = torch.device(\"cuda:0\" if torch.cuda.is_available() else \"cpu\")\n",
    "\n",
    "%matplotlib inline\n",
    "plt.rcParams['figure.figsize'] = (10.0, 8.0) # set default size of plots\n",
    "plt.rcParams['image.interpolation'] = 'nearest'\n",
    "plt.rcParams['image.cmap'] = 'gray'\n",
    "\n",
    "# for auto-reloading external modules\n",
    "# see http://stackoverflow.com/questions/1907993/autoreload-of-modules-in-ipython\n",
    "%load_ext autoreload\n",
    "%autoreload 2"
   ]
  },
  {
   "cell_type": "markdown",
   "metadata": {},
   "source": [
    "Dataset\n",
    "=========\n",
    "\n",
    "* Load the preprocessed datasets in patches of the same size (input size of network so far 32x32 pixel)\n",
    "* Split data in train - val - test data\n",
    "* How to treat unequal distribution of benign and malingant cases?\n",
    "\n",
    "****\n",
    "For an even easier management of the train, validation and test data pipelines we provide you with custom `torch.utils.data.Dataset` classes. Use the official [documentation](http://pytorch.org/docs/data.html) to make yourself familiar with the `Dataset` and `DataLoader` classes. Think about how you have to integrate them in your training loop and have a look at the data preprocessing steps in `dl4cv/data_utils.py`.\n",
    "\n",
    "The `num_workers` argument of the `DataLoader` class allows you to preprocess data with multiple threads.\n",
    "\n",
    "<div class=\"alert alert-info\">\n",
    "    <h3>Note</h3>\n",
    "    <p>In this case we generated the <code>Dataset</code> classes after we applied all the preprocessing steps. Other datasets or random data augmentation might require an online preprocessing which can be integrated into the <code>Dataset</code> classes. See <code>torchvision.Transform</code> for examples.</p>\n",
    "</div> "
   ]
  },
  {
   "cell_type": "code",
   "execution_count": 3,
   "metadata": {},
   "outputs": [
    {
     "name": "stdout",
     "output_type": "stream",
     "text": [
      "Train size: 475\n",
      "Val size: 190\n",
      "Test size: 190\n"
     ]
    }
   ],
   "source": [
    "from exercise_code.data_utils import load_mammography_data\n",
    "\n",
    "train_data = load_mammography_data('data/train.txt')\n",
    "val_data = load_mammography_data('data/val.txt')\n",
    "test_data = load_mammography_data('data/test.txt')\n",
    "\n",
    "\n",
    "# Load the (preprocessed) CIFAR10 data. The preprocessing includes\n",
    "# channel swapping, normalization and train-val-test splitting.\n",
    "# Loading the datasets might take a while.\n",
    "print(\"Train size: %i\" % len(train_data))\n",
    "print(\"Val size: %i\" % len(val_data))\n",
    "print(\"Test size: %i\" % len(test_data))"
   ]
  },
  {
   "cell_type": "markdown",
   "metadata": {},
   "source": [
    "Visualize Data\n",
    "------------------\n",
    "* Visualize some of the patches with according classlabels \n",
    "\n",
    "****\n",
    "To make yourself familiar with the dataset we visualize some examples. We show a few examples from each class. Note that we have to revert (transposition and mean subtraction) some preprocessing steps."
   ]
  },
  {
   "cell_type": "code",
   "execution_count": 7,
   "metadata": {},
   "outputs": [
    {
     "data": {
      "image/png": "[encoded data removed]",
      "text/plain": [
       "<Figure size 432x288 with 14 Axes>"
      ]
     },
     "metadata": {
      "needs_background": "light"
     },
     "output_type": "display_data"
    }
   ],
   "source": [
    "### TODO\n",
    "classes = ['malignant', 'benign']\n",
    "num_classes = len(classes)\n",
    "samples_per_class = 7\n",
    "for cls_idx, cls in enumerate(classes):\n",
    "    cls_data = [datum for datum in test_data if datum[1] == cls_idx]\n",
    "    rnd_idxs = np.random.randint(0, len(cls_data), samples_per_class)\n",
    "    rnd_cls_data = [datum for i, datum in enumerate(cls_data) if i in rnd_idxs]\n",
    "    for i, cls_datum in enumerate(rnd_cls_data):\n",
    "        plt_idx = i * num_classes + cls_idx + 1\n",
    "        plt.subplot(samples_per_class, num_classes, plt_idx)\n",
    "        plt.imshow(cls_datum[0].numpy().transpose(1,2,0))# + mean_image.transpose(1,2,0))\n",
    "        plt.axis('off')\n",
    "        if i == 0:\n",
    "            plt.title(cls)\n",
    "plt.show()"
   ]
  },
  {
   "cell_type": "code",
   "execution_count": 5,
   "metadata": {},
   "outputs": [],
   "source": [
    "#Example from Cifar10 website\n",
    "#draw_sample(X_train, y_train, 0, 3, 5)"
   ]
  },
  {
   "cell_type": "markdown",
   "metadata": {},
   "source": [
    "## Train the Network\n",
    "\n",
    "* Plot validation and training curve\n",
    "* Hyperparameter optimization\n",
    "* Visualize filters to see if network learns meaningful features\n",
    "\n",
    "We can copy each of these methods from the notebooks 1_classification_cnn and 2_segmentation_nn\n",
    "\n",
    "\n",
    "****\n"
   ]
  },
  {
   "cell_type": "code",
   "execution_count": 16,
   "metadata": {},
   "outputs": [
    {
     "name": "stdout",
     "output_type": "stream",
     "text": [
      "START TRAIN.\n",
      "[Epoch 1/10] TRAIN acc/loss: 0.455/1.227\n",
      "[Epoch 1/10] VAL   acc/loss: 0.570/0.750\n",
      "[Epoch 2/10] TRAIN acc/loss: 0.455/0.991\n",
      "[Epoch 2/10] VAL   acc/loss: 0.581/0.701\n",
      "[Epoch 3/10] TRAIN acc/loss: 0.545/0.903\n",
      "[Epoch 3/10] VAL   acc/loss: 0.570/0.695\n",
      "[Epoch 4/10] TRAIN acc/loss: 0.636/0.852\n",
      "[Epoch 4/10] VAL   acc/loss: 0.430/0.741\n",
      "[Epoch 5/10] TRAIN acc/loss: 0.545/0.824\n",
      "[Epoch 5/10] VAL   acc/loss: 0.570/0.769\n",
      "[Epoch 6/10] TRAIN acc/loss: 0.727/0.806\n",
      "[Epoch 6/10] VAL   acc/loss: 0.570/0.720\n",
      "[Epoch 7/10] TRAIN acc/loss: 0.455/0.791\n",
      "[Epoch 7/10] VAL   acc/loss: 0.596/0.678\n",
      "[Epoch 8/10] TRAIN acc/loss: 0.364/0.781\n",
      "[Epoch 8/10] VAL   acc/loss: 0.440/0.696\n",
      "[Epoch 9/10] TRAIN acc/loss: 0.636/0.772\n",
      "[Epoch 9/10] VAL   acc/loss: 0.570/0.773\n",
      "[Epoch 10/10] TRAIN acc/loss: 0.727/0.767\n",
      "[Epoch 10/10] VAL   acc/loss: 0.570/0.687\n",
      "FINISH.\n",
      "0.0005 16\n",
      "START TRAIN.\n",
      "[Epoch 1/10] TRAIN acc/loss: 0.727/1.933\n",
      "[Epoch 1/10] VAL   acc/loss: 0.429/0.832\n",
      "[Epoch 2/10] TRAIN acc/loss: 0.455/1.346\n",
      "[Epoch 2/10] VAL   acc/loss: 0.541/0.734\n",
      "[Epoch 3/10] TRAIN acc/loss: 0.364/1.150\n",
      "[Epoch 3/10] VAL   acc/loss: 0.570/0.693\n",
      "[Epoch 4/10] TRAIN acc/loss: 0.455/1.042\n",
      "[Epoch 4/10] VAL   acc/loss: 0.570/0.693\n",
      "[Epoch 5/10] TRAIN acc/loss: 0.636/0.974\n",
      "[Epoch 5/10] VAL   acc/loss: 0.570/0.702\n",
      "[Epoch 6/10] TRAIN acc/loss: 0.364/0.927\n",
      "[Epoch 6/10] VAL   acc/loss: 0.570/0.683\n",
      "[Epoch 7/10] TRAIN acc/loss: 0.909/0.894\n",
      "[Epoch 7/10] VAL   acc/loss: 0.570/0.686\n",
      "[Epoch 8/10] TRAIN acc/loss: 0.455/0.869\n",
      "[Epoch 8/10] VAL   acc/loss: 0.570/0.694\n",
      "[Epoch 9/10] TRAIN acc/loss: 0.364/0.849\n",
      "[Epoch 9/10] VAL   acc/loss: 0.570/0.687\n",
      "[Epoch 10/10] TRAIN acc/loss: 0.364/0.834\n",
      "[Epoch 10/10] VAL   acc/loss: 0.570/0.687\n",
      "FINISH.\n",
      "0.001 16\n",
      "START TRAIN.\n",
      "[Epoch 1/10] TRAIN acc/loss: 0.364/8.757\n",
      "[Epoch 1/10] VAL   acc/loss: 0.451/0.738\n",
      "[Epoch 2/10] TRAIN acc/loss: 0.545/4.749\n",
      "[Epoch 2/10] VAL   acc/loss: 0.570/0.685\n",
      "[Epoch 3/10] TRAIN acc/loss: 0.364/3.401\n",
      "[Epoch 3/10] VAL   acc/loss: 0.570/0.706\n",
      "[Epoch 4/10] TRAIN acc/loss: 0.273/2.727\n",
      "[Epoch 4/10] VAL   acc/loss: 0.570/0.695\n",
      "[Epoch 5/10] TRAIN acc/loss: 0.636/2.324\n",
      "[Epoch 5/10] VAL   acc/loss: 0.430/0.710\n",
      "[Epoch 6/10] TRAIN acc/loss: 0.636/2.056\n",
      "[Epoch 6/10] VAL   acc/loss: 0.430/0.732\n",
      "[Epoch 7/10] TRAIN acc/loss: 0.636/1.862\n",
      "[Epoch 7/10] VAL   acc/loss: 0.570/0.684\n",
      "[Epoch 8/10] TRAIN acc/loss: 0.727/1.716\n",
      "[Epoch 8/10] VAL   acc/loss: 0.570/0.691\n",
      "[Epoch 9/10] TRAIN acc/loss: 0.545/1.603\n",
      "[Epoch 9/10] VAL   acc/loss: 0.570/0.684\n",
      "[Epoch 10/10] TRAIN acc/loss: 0.818/1.513\n",
      "[Epoch 10/10] VAL   acc/loss: 0.570/0.686\n",
      "FINISH.\n",
      "0.005 16\n",
      "START TRAIN.\n",
      "[Epoch 1/10] TRAIN acc/loss: 0.444/1.835\n",
      "[Epoch 1/10] VAL   acc/loss: 0.569/0.690\n",
      "[Epoch 2/10] TRAIN acc/loss: 0.481/1.270\n",
      "[Epoch 2/10] VAL   acc/loss: 0.484/0.698\n",
      "[Epoch 3/10] TRAIN acc/loss: 0.704/1.085\n",
      "[Epoch 3/10] VAL   acc/loss: 0.569/0.741\n",
      "[Epoch 4/10] TRAIN acc/loss: 0.704/0.994\n",
      "[Epoch 4/10] VAL   acc/loss: 0.569/0.699\n",
      "[Epoch 5/10] TRAIN acc/loss: 0.556/0.937\n",
      "[Epoch 5/10] VAL   acc/loss: 0.575/0.679\n",
      "[Epoch 6/10] TRAIN acc/loss: 0.704/0.898\n",
      "[Epoch 6/10] VAL   acc/loss: 0.569/0.711\n",
      "[Epoch 7/10] TRAIN acc/loss: 0.481/0.870\n",
      "[Epoch 7/10] VAL   acc/loss: 0.569/0.688\n",
      "[Epoch 8/10] TRAIN acc/loss: 0.519/0.850\n",
      "[Epoch 8/10] VAL   acc/loss: 0.436/0.713\n",
      "[Epoch 9/10] TRAIN acc/loss: 0.444/0.833\n",
      "[Epoch 9/10] VAL   acc/loss: 0.473/0.684\n",
      "[Epoch 10/10] TRAIN acc/loss: 0.444/0.817\n",
      "[Epoch 10/10] VAL   acc/loss: 0.594/0.674\n",
      "FINISH.\n",
      "0.0005 32\n",
      "START TRAIN.\n",
      "[Epoch 1/10] TRAIN acc/loss: 0.444/2.300\n",
      "[Epoch 1/10] VAL   acc/loss: 0.569/3.856\n",
      "[Epoch 2/10] TRAIN acc/loss: 0.333/2.003\n",
      "[Epoch 2/10] VAL   acc/loss: 0.569/0.698\n",
      "[Epoch 3/10] TRAIN acc/loss: 0.444/1.575\n",
      "[Epoch 3/10] VAL   acc/loss: 0.506/0.685\n",
      "[Epoch 4/10] TRAIN acc/loss: 0.667/1.355\n",
      "[Epoch 4/10] VAL   acc/loss: 0.569/0.686\n",
      "[Epoch 5/10] TRAIN acc/loss: 0.519/1.225\n",
      "[Epoch 5/10] VAL   acc/loss: 0.574/0.670\n",
      "[Epoch 6/10] TRAIN acc/loss: 0.778/1.138\n",
      "[Epoch 6/10] VAL   acc/loss: 0.580/0.669\n",
      "[Epoch 7/10] TRAIN acc/loss: 0.778/1.072\n",
      "[Epoch 7/10] VAL   acc/loss: 0.633/0.652\n",
      "[Epoch 8/10] TRAIN acc/loss: 0.593/1.021\n",
      "[Epoch 8/10] VAL   acc/loss: 0.606/0.648\n",
      "[Epoch 9/10] TRAIN acc/loss: 0.556/0.985\n",
      "[Epoch 9/10] VAL   acc/loss: 0.643/0.631\n",
      "[Epoch 10/10] TRAIN acc/loss: 0.407/0.952\n",
      "[Epoch 10/10] VAL   acc/loss: 0.642/0.647\n",
      "FINISH.\n",
      "0.001 32\n",
      "START TRAIN.\n",
      "[Epoch 1/10] TRAIN acc/loss: 0.741/46.883\n",
      "[Epoch 1/10] VAL   acc/loss: 0.580/1.304\n",
      "[Epoch 2/10] TRAIN acc/loss: 0.519/24.749\n",
      "[Epoch 2/10] VAL   acc/loss: 0.569/0.990\n",
      "[Epoch 3/10] TRAIN acc/loss: 0.519/16.787\n",
      "[Epoch 3/10] VAL   acc/loss: 0.569/0.692\n",
      "[Epoch 4/10] TRAIN acc/loss: 0.481/12.772\n",
      "[Epoch 4/10] VAL   acc/loss: 0.431/0.729\n",
      "[Epoch 5/10] TRAIN acc/loss: 0.370/10.357\n",
      "[Epoch 5/10] VAL   acc/loss: 0.569/0.685\n",
      "[Epoch 6/10] TRAIN acc/loss: 0.667/8.746\n",
      "[Epoch 6/10] VAL   acc/loss: 0.569/0.696\n",
      "[Epoch 7/10] TRAIN acc/loss: 0.593/7.597\n",
      "[Epoch 7/10] VAL   acc/loss: 0.569/0.686\n",
      "[Epoch 8/10] TRAIN acc/loss: 0.667/6.733\n",
      "[Epoch 8/10] VAL   acc/loss: 0.569/0.686\n",
      "[Epoch 9/10] TRAIN acc/loss: 0.370/6.061\n",
      "[Epoch 9/10] VAL   acc/loss: 0.569/0.684\n",
      "[Epoch 10/10] TRAIN acc/loss: 0.333/5.525\n",
      "[Epoch 10/10] VAL   acc/loss: 0.431/0.696\n",
      "FINISH.\n",
      "0.005 32\n",
      "START TRAIN.\n",
      "[Epoch 1/10] TRAIN acc/loss: 0.370/2.753\n",
      "[Epoch 1/10] VAL   acc/loss: 0.569/0.927\n",
      "[Epoch 2/10] TRAIN acc/loss: 0.444/1.763\n",
      "[Epoch 2/10] VAL   acc/loss: 0.437/0.707\n",
      "[Epoch 3/10] TRAIN acc/loss: 0.556/1.418\n",
      "[Epoch 3/10] VAL   acc/loss: 0.442/0.717\n",
      "[Epoch 4/10] TRAIN acc/loss: 0.593/1.241\n",
      "[Epoch 4/10] VAL   acc/loss: 0.569/0.678\n",
      "[Epoch 5/10] TRAIN acc/loss: 0.778/1.130\n",
      "[Epoch 5/10] VAL   acc/loss: 0.590/0.667\n",
      "[Epoch 6/10] TRAIN acc/loss: 0.667/1.053\n",
      "[Epoch 6/10] VAL   acc/loss: 0.590/0.660\n",
      "[Epoch 7/10] TRAIN acc/loss: 0.481/0.999\n",
      "[Epoch 7/10] VAL   acc/loss: 0.610/0.652\n",
      "[Epoch 8/10] TRAIN acc/loss: 0.630/0.957\n",
      "[Epoch 8/10] VAL   acc/loss: 0.479/0.670\n",
      "[Epoch 9/10] TRAIN acc/loss: 0.704/0.927\n",
      "[Epoch 9/10] VAL   acc/loss: 0.447/0.699\n",
      "[Epoch 10/10] TRAIN acc/loss: 0.444/0.905\n",
      "[Epoch 10/10] VAL   acc/loss: 0.579/0.664\n",
      "FINISH.\n",
      "0.0005 64\n",
      "START TRAIN.\n",
      "[Epoch 1/10] TRAIN acc/loss: 0.519/3.341\n",
      "[Epoch 1/10] VAL   acc/loss: 0.468/0.713\n",
      "[Epoch 2/10] TRAIN acc/loss: 0.444/2.131\n",
      "[Epoch 2/10] VAL   acc/loss: 0.569/0.687\n",
      "[Epoch 3/10] TRAIN acc/loss: 0.519/1.672\n",
      "[Epoch 3/10] VAL   acc/loss: 0.431/0.761\n",
      "[Epoch 4/10] TRAIN acc/loss: 0.407/1.433\n",
      "[Epoch 4/10] VAL   acc/loss: 0.442/0.708\n",
      "[Epoch 5/10] TRAIN acc/loss: 0.407/1.291\n",
      "[Epoch 5/10] VAL   acc/loss: 0.431/0.720\n",
      "[Epoch 6/10] TRAIN acc/loss: 0.407/1.197\n",
      "[Epoch 6/10] VAL   acc/loss: 0.437/0.696\n",
      "[Epoch 7/10] TRAIN acc/loss: 0.519/1.127\n",
      "[Epoch 7/10] VAL   acc/loss: 0.569/0.686\n",
      "[Epoch 8/10] TRAIN acc/loss: 0.481/1.074\n",
      "[Epoch 8/10] VAL   acc/loss: 0.569/0.683\n",
      "[Epoch 9/10] TRAIN acc/loss: 0.556/1.032\n",
      "[Epoch 9/10] VAL   acc/loss: 0.553/0.690\n",
      "[Epoch 10/10] TRAIN acc/loss: 0.556/0.999\n",
      "[Epoch 10/10] VAL   acc/loss: 0.569/0.690\n",
      "FINISH.\n",
      "0.001 64\n",
      "START TRAIN.\n",
      "[Epoch 1/10] TRAIN acc/loss: 0.519/62.567\n",
      "[Epoch 1/10] VAL   acc/loss: 0.431/4.587\n",
      "[Epoch 2/10] TRAIN acc/loss: 0.519/36.142\n",
      "[Epoch 2/10] VAL   acc/loss: 0.431/1.506\n",
      "[Epoch 3/10] TRAIN acc/loss: 0.593/24.412\n",
      "[Epoch 3/10] VAL   acc/loss: 0.437/0.701\n",
      "[Epoch 4/10] TRAIN acc/loss: 0.556/18.792\n",
      "[Epoch 4/10] VAL   acc/loss: 0.569/0.685\n",
      "[Epoch 5/10] TRAIN acc/loss: 0.556/21.292\n",
      "[Epoch 5/10] VAL   acc/loss: 0.569/0.980\n",
      "[Epoch 6/10] TRAIN acc/loss: 0.704/45.962\n",
      "[Epoch 6/10] VAL   acc/loss: 0.569/1.557\n",
      "[Epoch 7/10] TRAIN acc/loss: 0.407/39.548\n",
      "[Epoch 7/10] VAL   acc/loss: 0.569/0.866\n",
      "[Epoch 8/10] TRAIN acc/loss: 0.481/36.988\n",
      "[Epoch 8/10] VAL   acc/loss: 0.431/0.759\n",
      "[Epoch 9/10] TRAIN acc/loss: 0.630/32.959\n",
      "[Epoch 9/10] VAL   acc/loss: 0.569/0.685\n",
      "[Epoch 10/10] TRAIN acc/loss: 0.556/29.734\n",
      "[Epoch 10/10] VAL   acc/loss: 0.569/0.693\n",
      "FINISH.\n",
      "0.005 64\n"
     ]
    }
   ],
   "source": [
    "from exercise_code.classifiers.classification_mammograms import ClassificationCNN\n",
    "from exercise_code.solver import Solver\n",
    "\n",
    "############################################################################\n",
    "# TODO: Initialize a model and train it using your Solver class. Start     #\n",
    "# with the previously given set of hyperparameters.                        #\n",
    "############################################################################\n",
    "best_model = None\n",
    "\n",
    "num_epochs = 10\n",
    "batch_size = [16,32,64]\n",
    "\n",
    "regs = [1e-5]\n",
    "#weight_scales = [1e-3]\n",
    "learning_rates = [5e-4,1e-3,5e-3]\n",
    "\n",
    "for batch in batch_size:\n",
    "    train_loader = torch.utils.data.DataLoader(train_data, batch_size=batch, shuffle=True, num_workers=1)\n",
    "    val_loader = torch.utils.data.DataLoader(val_data, batch_size=batch, shuffle=False, num_workers=1)\n",
    "    for lr in learning_rates:\n",
    "       # for reg in regs:\n",
    "        model = ClassificationCNN()\n",
    "        solver = Solver(optim_args={\"lr\": lr})#, \n",
    "                                        #\"betas\": (0.9, 0.999),\n",
    "                                        #\"eps\": 1e-8,\n",
    "                                        #\"weight_decay\": 0.0})\n",
    "\n",
    "        solver.train(model, train_loader, val_loader, log_nth=1000, num_epochs=num_epochs)\n",
    "        print(lr,batch)\n",
    "            \n"
   ]
  },
  {
   "cell_type": "code",
   "execution_count": 7,
   "metadata": {},
   "outputs": [],
   "source": [
    "#This is working!\n",
    "#train_loader = torch.utils.data.DataLoader(train_data, batch_size=8, shuffle=True, num_workers=1)\n",
    "#for i, [inputs,targets] in enumerate(train_loader, 1):\n",
    " #   print(i)\n",
    "  #  print(inputs)\n",
    "   # print(targets)\n",
    "#train_loader.size"
   ]
  },
  {
   "cell_type": "code",
   "execution_count": 8,
   "metadata": {
    "scrolled": true
   },
   "outputs": [],
   "source": [
    "#Here is the problem... it's from the solver.py \n",
    "#for i, [inputs,targets] in enumerate(train_loader, 1):\n",
    " #   print(i)\n",
    "  #  print(inputs)\n",
    "   # print(targets)"
   ]
  },
  {
   "cell_type": "code",
   "execution_count": 21,
   "metadata": {},
   "outputs": [
    {
     "data": {
      "image/png": "[encoded data removed]",
      "text/plain": [
       "<Figure size 432x288 with 2 Axes>"
      ]
     },
     "metadata": {
      "needs_background": "light"
     },
     "output_type": "display_data"
    }
   ],
   "source": [
    "plt.subplot(2, 1, 1)\n",
    "plt.plot(solver.train_loss_history, 'o')\n",
    "plt.plot(solver.val_loss_history, 'o')\n",
    "plt.xlabel('iteration')\n",
    "plt.ylabel('loss')\n",
    "#plt.axis([xmin, xmax, ymin, ymax])\n",
    "plt.axis(ymin=0)\n",
    "\n",
    "plt.subplot(2, 1, 2)\n",
    "plt.plot(solver.train_acc_history, '-o')\n",
    "plt.plot(solver.val_acc_history, '-o')\n",
    "plt.legend(['train', 'val'], loc='upper left')\n",
    "plt.xlabel('epoch')\n",
    "plt.ylabel('accuracy')\n",
    "plt.show()"
   ]
  },
  {
   "cell_type": "markdown",
   "metadata": {},
   "source": [
    "# Test your Model\n",
    "Run your best model on the test set."
   ]
  },
  {
   "cell_type": "code",
   "execution_count": null,
   "metadata": {
    "collapsed": true
   },
   "outputs": [],
   "source": []
  },
  {
   "cell_type": "code",
   "execution_count": null,
   "metadata": {
    "collapsed": true
   },
   "outputs": [],
   "source": []
  },
  {
   "cell_type": "markdown",
   "metadata": {},
   "source": [
    "## Save the Model"
   ]
  },
  {
   "cell_type": "code",
   "execution_count": null,
   "metadata": {
    "collapsed": true
   },
   "outputs": [],
   "source": []
  }
 ],
 "metadata": {
  "kernelspec": {
   "display_name": "Python 3",
   "language": "python",
   "name": "python3"
  },
  "language_info": {
   "codemirror_mode": {
    "name": "ipython",
    "version": 3
   },
   "file_extension": ".py",
   "mimetype": "text/x-python",
   "name": "python",
   "nbconvert_exporter": "python",
   "pygments_lexer": "ipython3",
   "version": "3.7.3"
  }
 },
 "nbformat": 4,
 "nbformat_minor": 1
}
